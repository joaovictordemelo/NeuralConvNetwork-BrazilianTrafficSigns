{
  "nbformat": 4,
  "nbformat_minor": 0,
  "metadata": {
    "colab": {
      "provenance": [],
      "authorship_tag": "ABX9TyPsKGucmuG5USUVuBgqW9pA",
      "include_colab_link": true
    },
    "kernelspec": {
      "name": "python3",
      "display_name": "Python 3"
    },
    "language_info": {
      "name": "python"
    }
  },
  "cells": [
    {
      "cell_type": "markdown",
      "metadata": {
        "id": "view-in-github",
        "colab_type": "text"
      },
      "source": [
        "<a href=\"https://colab.research.google.com/github/joaovictordemelo/NeuralConvNetwork-BrazilianTrafficSigns/blob/main/trafficSignsClassificationDetran.ipynb\" target=\"_parent\"><img src=\"https://colab.research.google.com/assets/colab-badge.svg\" alt=\"Open In Colab\"/></a>"
      ]
    },
    {
      "cell_type": "code",
      "source": [
        "from google.colab import drive\n",
        "drive.mount('\\content\\drive')"
      ],
      "metadata": {
        "colab": {
          "base_uri": "https://localhost:8080/",
          "height": 328
        },
        "id": "o-9j9r2-8K0W",
        "outputId": "df799a03-ba52-49dc-e9ad-31c15b224275"
      },
      "execution_count": 2,
      "outputs": [
        {
          "output_type": "error",
          "ename": "KeyboardInterrupt",
          "evalue": "ignored",
          "traceback": [
            "\u001b[0;31m---------------------------------------------------------------------------\u001b[0m",
            "\u001b[0;31mKeyboardInterrupt\u001b[0m                         Traceback (most recent call last)",
            "\u001b[0;32m<ipython-input-2-2934c69c990e>\u001b[0m in \u001b[0;36m<cell line: 2>\u001b[0;34m()\u001b[0m\n\u001b[1;32m      1\u001b[0m \u001b[0;32mfrom\u001b[0m \u001b[0mgoogle\u001b[0m\u001b[0;34m.\u001b[0m\u001b[0mcolab\u001b[0m \u001b[0;32mimport\u001b[0m \u001b[0mdrive\u001b[0m\u001b[0;34m\u001b[0m\u001b[0;34m\u001b[0m\u001b[0m\n\u001b[0;32m----> 2\u001b[0;31m \u001b[0mdrive\u001b[0m\u001b[0;34m.\u001b[0m\u001b[0mmount\u001b[0m\u001b[0;34m(\u001b[0m\u001b[0;34m'\\content\\drive'\u001b[0m\u001b[0;34m)\u001b[0m\u001b[0;34m\u001b[0m\u001b[0;34m\u001b[0m\u001b[0m\n\u001b[0m",
            "\u001b[0;32m/usr/local/lib/python3.9/dist-packages/google/colab/drive.py\u001b[0m in \u001b[0;36mmount\u001b[0;34m(mountpoint, force_remount, timeout_ms, readonly)\u001b[0m\n\u001b[1;32m    101\u001b[0m \u001b[0;32mdef\u001b[0m \u001b[0mmount\u001b[0m\u001b[0;34m(\u001b[0m\u001b[0mmountpoint\u001b[0m\u001b[0;34m,\u001b[0m \u001b[0mforce_remount\u001b[0m\u001b[0;34m=\u001b[0m\u001b[0;32mFalse\u001b[0m\u001b[0;34m,\u001b[0m \u001b[0mtimeout_ms\u001b[0m\u001b[0;34m=\u001b[0m\u001b[0;36m120000\u001b[0m\u001b[0;34m,\u001b[0m \u001b[0mreadonly\u001b[0m\u001b[0;34m=\u001b[0m\u001b[0;32mFalse\u001b[0m\u001b[0;34m)\u001b[0m\u001b[0;34m:\u001b[0m\u001b[0;34m\u001b[0m\u001b[0;34m\u001b[0m\u001b[0m\n\u001b[1;32m    102\u001b[0m   \u001b[0;34m\"\"\"Mount your Google Drive at the specified mountpoint path.\"\"\"\u001b[0m\u001b[0;34m\u001b[0m\u001b[0;34m\u001b[0m\u001b[0m\n\u001b[0;32m--> 103\u001b[0;31m   return _mount(\n\u001b[0m\u001b[1;32m    104\u001b[0m       \u001b[0mmountpoint\u001b[0m\u001b[0;34m,\u001b[0m\u001b[0;34m\u001b[0m\u001b[0;34m\u001b[0m\u001b[0m\n\u001b[1;32m    105\u001b[0m       \u001b[0mforce_remount\u001b[0m\u001b[0;34m=\u001b[0m\u001b[0mforce_remount\u001b[0m\u001b[0;34m,\u001b[0m\u001b[0;34m\u001b[0m\u001b[0;34m\u001b[0m\u001b[0m\n",
            "\u001b[0;32m/usr/local/lib/python3.9/dist-packages/google/colab/drive.py\u001b[0m in \u001b[0;36m_mount\u001b[0;34m(mountpoint, force_remount, timeout_ms, ephemeral, readonly)\u001b[0m\n\u001b[1;32m    261\u001b[0m \u001b[0;34m\u001b[0m\u001b[0m\n\u001b[1;32m    262\u001b[0m   \u001b[0;32mwhile\u001b[0m \u001b[0;32mTrue\u001b[0m\u001b[0;34m:\u001b[0m\u001b[0;34m\u001b[0m\u001b[0;34m\u001b[0m\u001b[0m\n\u001b[0;32m--> 263\u001b[0;31m     case = d.expect([\n\u001b[0m\u001b[1;32m    264\u001b[0m         \u001b[0msuccess\u001b[0m\u001b[0;34m,\u001b[0m\u001b[0;34m\u001b[0m\u001b[0;34m\u001b[0m\u001b[0m\n\u001b[1;32m    265\u001b[0m         \u001b[0mprompt\u001b[0m\u001b[0;34m,\u001b[0m\u001b[0;34m\u001b[0m\u001b[0;34m\u001b[0m\u001b[0m\n",
            "\u001b[0;32m/usr/local/lib/python3.9/dist-packages/pexpect/spawnbase.py\u001b[0m in \u001b[0;36mexpect\u001b[0;34m(self, pattern, timeout, searchwindowsize, async_, **kw)\u001b[0m\n\u001b[1;32m    341\u001b[0m \u001b[0;34m\u001b[0m\u001b[0m\n\u001b[1;32m    342\u001b[0m         \u001b[0mcompiled_pattern_list\u001b[0m \u001b[0;34m=\u001b[0m \u001b[0mself\u001b[0m\u001b[0;34m.\u001b[0m\u001b[0mcompile_pattern_list\u001b[0m\u001b[0;34m(\u001b[0m\u001b[0mpattern\u001b[0m\u001b[0;34m)\u001b[0m\u001b[0;34m\u001b[0m\u001b[0;34m\u001b[0m\u001b[0m\n\u001b[0;32m--> 343\u001b[0;31m         return self.expect_list(compiled_pattern_list,\n\u001b[0m\u001b[1;32m    344\u001b[0m                 timeout, searchwindowsize, async_)\n\u001b[1;32m    345\u001b[0m \u001b[0;34m\u001b[0m\u001b[0m\n",
            "\u001b[0;32m/usr/local/lib/python3.9/dist-packages/pexpect/spawnbase.py\u001b[0m in \u001b[0;36mexpect_list\u001b[0;34m(self, pattern_list, timeout, searchwindowsize, async_, **kw)\u001b[0m\n\u001b[1;32m    370\u001b[0m             \u001b[0;32mreturn\u001b[0m \u001b[0mexpect_async\u001b[0m\u001b[0;34m(\u001b[0m\u001b[0mexp\u001b[0m\u001b[0;34m,\u001b[0m \u001b[0mtimeout\u001b[0m\u001b[0;34m)\u001b[0m\u001b[0;34m\u001b[0m\u001b[0;34m\u001b[0m\u001b[0m\n\u001b[1;32m    371\u001b[0m         \u001b[0;32melse\u001b[0m\u001b[0;34m:\u001b[0m\u001b[0;34m\u001b[0m\u001b[0;34m\u001b[0m\u001b[0m\n\u001b[0;32m--> 372\u001b[0;31m             \u001b[0;32mreturn\u001b[0m \u001b[0mexp\u001b[0m\u001b[0;34m.\u001b[0m\u001b[0mexpect_loop\u001b[0m\u001b[0;34m(\u001b[0m\u001b[0mtimeout\u001b[0m\u001b[0;34m)\u001b[0m\u001b[0;34m\u001b[0m\u001b[0;34m\u001b[0m\u001b[0m\n\u001b[0m\u001b[1;32m    373\u001b[0m \u001b[0;34m\u001b[0m\u001b[0m\n\u001b[1;32m    374\u001b[0m     def expect_exact(self, pattern_list, timeout=-1, searchwindowsize=-1,\n",
            "\u001b[0;32m/usr/local/lib/python3.9/dist-packages/pexpect/expect.py\u001b[0m in \u001b[0;36mexpect_loop\u001b[0;34m(self, timeout)\u001b[0m\n\u001b[1;32m    169\u001b[0m                 \u001b[0mincoming\u001b[0m \u001b[0;34m=\u001b[0m \u001b[0mspawn\u001b[0m\u001b[0;34m.\u001b[0m\u001b[0mread_nonblocking\u001b[0m\u001b[0;34m(\u001b[0m\u001b[0mspawn\u001b[0m\u001b[0;34m.\u001b[0m\u001b[0mmaxread\u001b[0m\u001b[0;34m,\u001b[0m \u001b[0mtimeout\u001b[0m\u001b[0;34m)\u001b[0m\u001b[0;34m\u001b[0m\u001b[0;34m\u001b[0m\u001b[0m\n\u001b[1;32m    170\u001b[0m                 \u001b[0;32mif\u001b[0m \u001b[0mself\u001b[0m\u001b[0;34m.\u001b[0m\u001b[0mspawn\u001b[0m\u001b[0;34m.\u001b[0m\u001b[0mdelayafterread\u001b[0m \u001b[0;32mis\u001b[0m \u001b[0;32mnot\u001b[0m \u001b[0;32mNone\u001b[0m\u001b[0;34m:\u001b[0m\u001b[0;34m\u001b[0m\u001b[0;34m\u001b[0m\u001b[0m\n\u001b[0;32m--> 171\u001b[0;31m                     \u001b[0mtime\u001b[0m\u001b[0;34m.\u001b[0m\u001b[0msleep\u001b[0m\u001b[0;34m(\u001b[0m\u001b[0mself\u001b[0m\u001b[0;34m.\u001b[0m\u001b[0mspawn\u001b[0m\u001b[0;34m.\u001b[0m\u001b[0mdelayafterread\u001b[0m\u001b[0;34m)\u001b[0m\u001b[0;34m\u001b[0m\u001b[0;34m\u001b[0m\u001b[0m\n\u001b[0m\u001b[1;32m    172\u001b[0m                 \u001b[0midx\u001b[0m \u001b[0;34m=\u001b[0m \u001b[0mself\u001b[0m\u001b[0;34m.\u001b[0m\u001b[0mnew_data\u001b[0m\u001b[0;34m(\u001b[0m\u001b[0mincoming\u001b[0m\u001b[0;34m)\u001b[0m\u001b[0;34m\u001b[0m\u001b[0;34m\u001b[0m\u001b[0m\n\u001b[1;32m    173\u001b[0m                 \u001b[0;31m# Keep reading until exception or return.\u001b[0m\u001b[0;34m\u001b[0m\u001b[0;34m\u001b[0m\u001b[0m\n",
            "\u001b[0;31mKeyboardInterrupt\u001b[0m: "
          ]
        }
      ]
    },
    {
      "cell_type": "code",
      "execution_count": 20,
      "metadata": {
        "colab": {
          "base_uri": "https://localhost:8080/"
        },
        "id": "bE276iwI7sRc",
        "outputId": "1795c0b9-3739-4853-a562-41392084f0b2"
      },
      "outputs": [
        {
          "output_type": "stream",
          "name": "stdout",
          "text": [
            "{'altura_maxima_permitida': 0, 'area_reservada_para_motos': 1, 'desvio_a_frente': 2, 'estreitamento_de_pista': 3, 'fiscalizacao_eletronica_horizontal_60_km': 4, 'fiscalizacao_eletronica_vertical_50_km': 5, 'fiscalizacao_eletronica_vertical_60_km': 6, 'lombada': 7, 'marcas_de_perigo': 8, 'pare': 9, 'passagem_sinalizada_de_escolares': 10, 'passagem_sinalizada_de_pedestres': 11, 'placa_de_orientacao_de_destino': 12, 'ponto_de_onibus': 13, 'proibido_estacionar': 14, 'proibido_parar_e_estacionar': 15, 'proibido_retornar_a_esquerda': 16, 'proibido_trafego_de_caminhoes': 17, 'proibido_virar_a_direita': 18, 'proibido_virar_a_direita_veiculos_pesados': 19, 'proibido_virar_a_esquerda': 20, 'rotatoria': 21, 'rotatoria_a_frente': 22, 'semaforo_a_frente': 23, 'siga_em_frente': 24, 'siga_em_frente_ou_a_direita': 25, 'siga_em_frente_ou_a_esquerda': 26, 'velocidade_maxima_30_km': 27, 'velocidade_maxima_40_km': 28, 'velocidade_maxima_50_km': 29, 'velocidade_maxima_60_km': 30, 'vire_a_direita': 31, 'vire_a_esquerda': 32}\n",
            "Epoch 1/10\n",
            "30/30 [==============================] - 91s 3s/step - loss: 244.7666 - accuracy: 0.1406 - val_loss: 3.2665 - val_accuracy: 0.1750\n",
            "Epoch 2/10\n",
            "30/30 [==============================] - 89s 3s/step - loss: 3.3037 - accuracy: 0.1417 - val_loss: 3.1676 - val_accuracy: 0.2000\n",
            "Epoch 3/10\n",
            "30/30 [==============================] - 90s 3s/step - loss: 3.2757 - accuracy: 0.2417 - val_loss: 3.2302 - val_accuracy: 0.3292\n",
            "Epoch 4/10\n",
            "30/30 [==============================] - 89s 3s/step - loss: 3.2611 - accuracy: 0.2656 - val_loss: 3.2007 - val_accuracy: 0.3292\n",
            "Epoch 5/10\n",
            "30/30 [==============================] - 91s 3s/step - loss: 2.8342 - accuracy: 0.3938 - val_loss: 1.5882 - val_accuracy: 0.6417\n",
            "Epoch 6/10\n",
            "30/30 [==============================] - 88s 3s/step - loss: 1.1492 - accuracy: 0.7437 - val_loss: 0.8238 - val_accuracy: 0.8375\n",
            "Epoch 7/10\n",
            "30/30 [==============================] - 90s 3s/step - loss: 0.3728 - accuracy: 0.8979 - val_loss: 0.7395 - val_accuracy: 0.8583\n",
            "Epoch 8/10\n",
            "30/30 [==============================] - 92s 3s/step - loss: 0.1662 - accuracy: 0.9635 - val_loss: 0.8141 - val_accuracy: 0.8667\n",
            "Epoch 9/10\n",
            "30/30 [==============================] - 88s 3s/step - loss: 0.0628 - accuracy: 0.9896 - val_loss: 0.8511 - val_accuracy: 0.8625\n",
            "Epoch 10/10\n",
            "30/30 [==============================] - 87s 3s/step - loss: 0.0298 - accuracy: 0.9948 - val_loss: 0.8189 - val_accuracy: 0.8875\n",
            "8/8 - 7s - loss: 0.8189 - accuracy: 0.8875 - 7s/epoch - 813ms/step\n",
            "\n",
            "Test accuracy: 0.887499988079071\n"
          ]
        }
      ],
      "source": [
        "import os\n",
        "import numpy as np\n",
        "import tensorflow as tf\n",
        "from tensorflow import keras\n",
        "from tensorflow.keras import layers\n",
        "from tensorflow.keras.models import Sequential\n",
        "from sklearn.model_selection import train_test_split\n",
        "\n",
        "# Define the class to integer mapping\n",
        "train_dir = '/content/contentdrive/MyDrive/imagesTraffic/initial-dataset'\n",
        "\n",
        "# Get the class names from the directory names\n",
        "class_names = sorted(os.listdir(train_dir))\n",
        "\n",
        "# Create a dictionary that maps the class names to integer labels\n",
        "class_image_map = {}\n",
        "for i, class_name in enumerate(class_names):\n",
        "    class_image_map[class_name] = i\n",
        "\n",
        "print(class_image_map)\n",
        "# Load the images and corresponding labels\n",
        "images = []\n",
        "labels = []\n",
        "\n",
        "image_size = (224, 224)\n",
        "\n",
        "for class_name in class_image_map.keys():\n",
        "    class_path = os.path.join(\"/content/contentdrive/MyDrive/imagesTraffic/initial-dataset\", class_name)\n",
        "    class_label = class_image_map[class_name]\n",
        "    for file_name in os.listdir(class_path):\n",
        "        if file_name.endswith(\".png\"):\n",
        "            image_path = os.path.join(class_path, file_name)\n",
        "            img = keras.preprocessing.image.load_img(\n",
        "                image_path, target_size=image_size\n",
        "            )\n",
        "            img_array = keras.preprocessing.image.img_to_array(img)\n",
        "            images.append(img_array)\n",
        "            labels.append(class_label)\n",
        "\n",
        "\n",
        "\n",
        "# Convert the images and labels to numpy arrays\n",
        "images = np.array(images)\n",
        "labels = np.array(labels)\n",
        "\n",
        "# Convert the images and labels to numpy arrays\n",
        "#images = tf.convert_to_tensor(images)\n",
        "#labels = tf.convert_to_tensor(labels)\n",
        "\n",
        "# Split the data into training and testing sets\n",
        "train_images, test_images, train_labels, test_labels = train_test_split(\n",
        "    images, labels, test_size=0.2, random_state=42\n",
        ")\n",
        "\n",
        "# Define the CNN model\n",
        "model = Sequential([\n",
        "    layers.Conv2D(32, (3, 3), activation='relu', input_shape=(224, 224, 3)),\n",
        "    layers.MaxPooling2D((2, 2)),\n",
        "    layers.Conv2D(64, (3, 3), activation='relu'),\n",
        "    layers.MaxPooling2D((2, 2)),\n",
        "    layers.Flatten(),\n",
        "    layers.Dense(64, activation='relu'),\n",
        "    layers.Dense(len(class_image_map))\n",
        "])\n",
        "\n",
        "# Compile the model\n",
        "model.compile(optimizer='adam',\n",
        "              loss=tf.keras.losses.SparseCategoricalCrossentropy(from_logits=True),\n",
        "              metrics=['accuracy'])\n",
        "\n",
        "# Train the model\n",
        "history = model.fit(train_images, train_labels, epochs=10, \n",
        "                    validation_data=(test_images, test_labels))\n",
        "\n",
        "# Evaluate the model\n",
        "test_loss, test_acc = model.evaluate(test_images,  test_labels, verbose=2)\n",
        "print('\\nTest accuracy:', test_acc)"
      ]
    },
    {
      "cell_type": "code",
      "source": [],
      "metadata": {
        "id": "faT0IW59A5sv"
      },
      "execution_count": null,
      "outputs": []
    }
  ]
}